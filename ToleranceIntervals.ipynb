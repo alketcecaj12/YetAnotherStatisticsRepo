{
 "cells": [
  {
   "cell_type": "markdown",
   "id": "9983646c-aea1-4641-9501-6f8f43a1f0d3",
   "metadata": {},
   "source": [
    "# Tolerance Intervals in Statistics\n",
    "-A tolerance interval in statistics is an interval within which, with some confidence level, a \n",
    "specified proportion of a population falls. \n",
    "\n",
    "-Unlike confidence intervals, which focus on estimating population parameters (like the mean or \n",
    "                                                                              standard deviation), \n",
    "tolerance intervals focus on the range of the population's values.\n",
    "\n",
    "### There are two types of tolerance intervals:\n",
    "\n",
    "- Two-sided tolerance interval: This interval covers a specified proportion of the population on both \n",
    "sides of the mean.\n",
    "    \n",
    "- One-sided tolerance interval: This interval covers a specified proportion of the population on only\n",
    "    one side (either the lower or the upper side).\n",
    "\n",
    "### Use Cases of Tolerance Intervals in Real Life\n",
    "- Manufacturing Quality Control: Ensuring that a certain proportion of products meet the specified quality standards. For example, in the production of resistors, a tolerance interval can ensure that a specified percentage of resistors have resistance within a certain range.\n",
    "\n",
    "- Environmental Regulations: Determining the range within which pollutant levels fall for a certain percentage of time with a given confidence level.\n",
    "\n",
    "- Medical Studies: Establishing ranges for vital signs (like blood pressure or cholesterol levels) that cover a certain proportion of a healthy population.\n",
    "Engineering: Ensuring that materials or components will function correctly within certain ranges of stress or strai"
   ]
  },
  {
   "cell_type": "markdown",
   "id": "658b6edc-f56f-4482-9f3d-49308725472f",
   "metadata": {},
   "source": [
    "## Comprehensive Example with Python Code\n",
    "- Suppose we have a sample of 1000 measurements of a certain chemical concentration in a water supply. We want to determine the tolerance interval that covers 95% of the population with 99% confidence"
   ]
  },
  {
   "cell_type": "code",
   "execution_count": 2,
   "id": "58416da0-61d6-4e90-bcc1-01550d5ab9c4",
   "metadata": {},
   "outputs": [
    {
     "data": {
      "text/plain": [
       "(31.9432272665737, 68.44341384987281)"
      ]
     },
     "execution_count": 2,
     "metadata": {},
     "output_type": "execute_result"
    }
   ],
   "source": [
    "import numpy as np\n",
    "import scipy.stats as stats\n",
    "\n",
    "# Generate a sample dataset\n",
    "np.random.seed(42)\n",
    "sample_size = 1000\n",
    "data = np.random.normal(loc=50, scale=10, size=sample_size)  # Mean = 50, Std Dev = 10\n",
    "\n",
    "# Define the proportion of the population and the confidence level\n",
    "proportion = 0.95\n",
    "confidence_level = 0.99\n",
    "\n",
    "# Calculate the tolerance interval\n",
    "n = len(data)\n",
    "mean = np.mean(data)\n",
    "std_dev = np.std(data, ddof=1)\n",
    "\n",
    "# Degrees of freedom\n",
    "dof = n - 1\n",
    "\n",
    "# Find the chi-squared critical value\n",
    "alpha = 1 - confidence_level\n",
    "chi2_critical = stats.chi2.ppf(1 - alpha, dof)\n",
    "\n",
    "# Calculate the tolerance factor\n",
    "k = np.sqrt((dof * (1 + 1/n) * stats.norm.ppf((1 + proportion)/2)**2) / chi2_critical)\n",
    "\n",
    "# Calculate the tolerance interval\n",
    "lower_bound = mean - k * std_dev\n",
    "upper_bound = mean + k * std_dev\n",
    "\n",
    "(lower_bound, upper_bound)"
   ]
  },
  {
   "cell_type": "markdown",
   "id": "c6522d5d-b6a8-4c13-af43-d047e9e72279",
   "metadata": {},
   "source": [
    "## Step by step explanation \n",
    "\n",
    "- ### 1.Generating the Sample Dataset:\n",
    "We generate a dataset with 1000 samples from a normal distribution with a mean of 50 and a standard deviation of 10.\n",
    "\n",
    "- ### 2.Setting Proportion and Confidence Level:\n",
    "We define that we want 95% of the population (proportion = 0.95) to be within the interval with 99% confidence (confidence_level = 0.99).\n",
    "\n",
    "- ### 3.Calculating Mean and Standard Deviation:\n",
    "We calculate the sample mean and standard deviation.\n",
    "\n",
    "- ### 4.Calculating Degrees of Freedom:\n",
    "Degrees of freedom (dof) is calculated as the sample size minus one.\n",
    "\n",
    "- ### 5.Finding the Chi-Squared Critical Value:\n",
    "The chi-squared critical value is obtained for the given confidence level and degrees of freedom.\n",
    "\n",
    "- ### 6.Calculating the Tolerance Factor:\n",
    "The tolerance factor (k) is calculated using the formula that incorporates the chi-squared critical value, degrees of freedom, sample size, and the standard normal critical value for the given proportion.\n",
    "\n",
    "- ### 7.Calculating the Tolerance Interval:\n",
    "Finally, the lower and upper bounds of the tolerance interval are calculated using the mean, standard deviation, and the tolerance factor.\n",
    "By running the above code, you will get the lower and upper bounds of the tolerance interval for the given dataset. This interval tells you that with 99% confidence, 95% of the population's chemical concentration measurements fall within this range."
   ]
  },
  {
   "cell_type": "code",
   "execution_count": null,
   "id": "9bf660a8-bf25-46e7-b4ae-3bc9687462e5",
   "metadata": {},
   "outputs": [],
   "source": []
  },
  {
   "cell_type": "code",
   "execution_count": null,
   "id": "58f3fefa-e7c6-4de3-8318-8cbd72c8f7ba",
   "metadata": {},
   "outputs": [],
   "source": []
  },
  {
   "cell_type": "code",
   "execution_count": null,
   "id": "8ae66c36-20a2-4b18-8404-dcd7cff1cd25",
   "metadata": {},
   "outputs": [],
   "source": []
  },
  {
   "cell_type": "code",
   "execution_count": null,
   "id": "9a23c244-8058-4a0c-a947-d392a5e81336",
   "metadata": {},
   "outputs": [],
   "source": []
  }
 ],
 "metadata": {
  "kernelspec": {
   "display_name": "Python 3 (ipykernel)",
   "language": "python",
   "name": "python3"
  },
  "language_info": {
   "codemirror_mode": {
    "name": "ipython",
    "version": 3
   },
   "file_extension": ".py",
   "mimetype": "text/x-python",
   "name": "python",
   "nbconvert_exporter": "python",
   "pygments_lexer": "ipython3",
   "version": "3.10.13"
  }
 },
 "nbformat": 4,
 "nbformat_minor": 5
}
