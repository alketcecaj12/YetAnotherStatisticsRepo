{
 "cells": [
  {
   "cell_type": "markdown",
   "id": "3a15d244-ff02-4bda-a214-7dcff9f35396",
   "metadata": {},
   "source": [
    "## Introduction to Combinatorics\n",
    "\n",
    "Combinatorics is a branch of mathematics that deals with counting, arrangement, and combination of objects. It has numerous applications in computer science, data analysis, and probability theory"
   ]
  },
  {
   "cell_type": "markdown",
   "id": "10d32012-9f58-491e-aa2a-494da80cb66b",
   "metadata": {},
   "source": [
    "### Permutations\n",
    "Permutations are arrangements of objects where order matters."
   ]
  },
  {
   "cell_type": "code",
   "execution_count": 1,
   "id": "41aa91cf-dfb5-45d5-854e-7b7c7af269cd",
   "metadata": {},
   "outputs": [
    {
     "name": "stdout",
     "output_type": "stream",
     "text": [
      "[('apple', 'banana', 'cherry'), ('apple', 'cherry', 'banana'), ('banana', 'apple', 'cherry'), ('banana', 'cherry', 'apple'), ('cherry', 'apple', 'banana'), ('cherry', 'banana', 'apple')]\n"
     ]
    }
   ],
   "source": [
    "from itertools import permutations\n",
    "\n",
    "def calculate_permutations(items):\n",
    "    return list(permutations(items))\n",
    "\n",
    "# Example\n",
    "fruits = ['apple', 'banana', 'cherry']\n",
    "print(calculate_permutations(fruits))"
   ]
  },
  {
   "cell_type": "markdown",
   "id": "3608e216-c600-422d-b039-912c5bea110c",
   "metadata": {},
   "source": [
    "### Real-life Example: Password Generation\n",
    "Permutations can be used to generate all possible passwords of a given length"
   ]
  },
  {
   "cell_type": "code",
   "execution_count": 2,
   "id": "b7115372-995b-4655-8bc7-1a7b8a56f87a",
   "metadata": {},
   "outputs": [
    {
     "name": "stdout",
     "output_type": "stream",
     "text": [
      "Number of possible passwords: 1402410240\n"
     ]
    }
   ],
   "source": [
    "import string\n",
    "\n",
    "def generate_passwords(length):\n",
    "    characters = string.ascii_lowercase + string.digits\n",
    "    return [''.join(p) for p in permutations(characters, length)]\n",
    "\n",
    "# Generate all 3-character passwords\n",
    "passwords = generate_passwords(6)\n",
    "print(f\"Number of possible passwords: {len(passwords)}\")"
   ]
  },
  {
   "cell_type": "markdown",
   "id": "7819a821-5b11-4af9-ba4b-7a0fd4e072a9",
   "metadata": {},
   "source": [
    "### Combinations are selections of objects where order doesn't matter."
   ]
  },
  {
   "cell_type": "code",
   "execution_count": 3,
   "id": "19c9972c-d9c8-487c-a3b2-b65fae08e69b",
   "metadata": {},
   "outputs": [
    {
     "name": "stdout",
     "output_type": "stream",
     "text": [
      "[('apple', 'banana'), ('apple', 'cherry'), ('apple', 'date'), ('banana', 'cherry'), ('banana', 'date'), ('cherry', 'date')]\n"
     ]
    }
   ],
   "source": [
    "from itertools import combinations\n",
    "\n",
    "def calculate_combinations(items, r):\n",
    "    return list(combinations(items, r))\n",
    "\n",
    "# Example\n",
    "fruits = ['apple', 'banana', 'cherry', 'date']\n",
    "print(calculate_combinations(fruits, 2))"
   ]
  },
  {
   "cell_type": "code",
   "execution_count": 4,
   "id": "050fad9d-ef1e-4833-8d2d-3339e86e3c0c",
   "metadata": {},
   "outputs": [
    {
     "name": "stdout",
     "output_type": "stream",
     "text": [
      "Possible teams of 3: [('Alice', 'Bob', 'Charlie'), ('Alice', 'Bob', 'David'), ('Alice', 'Bob', 'Eve'), ('Alice', 'Charlie', 'David'), ('Alice', 'Charlie', 'Eve'), ('Alice', 'David', 'Eve'), ('Bob', 'Charlie', 'David'), ('Bob', 'Charlie', 'Eve'), ('Bob', 'David', 'Eve'), ('Charlie', 'David', 'Eve')]\n"
     ]
    }
   ],
   "source": [
    "def form_teams(players, team_size):\n",
    "    return list(combinations(players, team_size))\n",
    "\n",
    "players = ['Alice', 'Bob', 'Charlie', 'David', 'Eve']\n",
    "teams = form_teams(players, 3)\n",
    "print(f\"Possible teams of 3: {teams}\")"
   ]
  },
  {
   "cell_type": "markdown",
   "id": "99afdd74-3365-4640-b9dc-d5dc4e107c34",
   "metadata": {},
   "source": [
    "### Factorial\n",
    "Factorial is the product of all positive integers less than or equal to a given number."
   ]
  },
  {
   "cell_type": "code",
   "execution_count": 5,
   "id": "49403227-c301-4bbf-8bf4-1841aafe6f7a",
   "metadata": {},
   "outputs": [
    {
     "name": "stdout",
     "output_type": "stream",
     "text": [
      "120\n"
     ]
    }
   ],
   "source": [
    "import math\n",
    "\n",
    "def factorial(n):\n",
    "    return math.factorial(n)\n",
    "\n",
    "# Example\n",
    "print(factorial(5))"
   ]
  },
  {
   "cell_type": "markdown",
   "id": "737fb423-91f6-4f19-a11d-471da69f08cf",
   "metadata": {},
   "source": [
    "### Real-life Example: Arrangement of Books\n",
    "Factorial can be used to calculate the number of ways to arrange books on a shelf"
   ]
  },
  {
   "cell_type": "code",
   "execution_count": 6,
   "id": "c722c4ae-815b-41d3-8252-35cb480515c3",
   "metadata": {},
   "outputs": [
    {
     "name": "stdout",
     "output_type": "stream",
     "text": [
      "Number of ways to arrange 5 books: 120\n"
     ]
    }
   ],
   "source": [
    "def book_arrangements(num_books):\n",
    "    return factorial(num_books)\n",
    "\n",
    "books = 5\n",
    "arrangements = book_arrangements(books)\n",
    "print(f\"Number of ways to arrange {books} books: {arrangements}\")"
   ]
  },
  {
   "cell_type": "markdown",
   "id": "5455d6fc-f500-4b19-9391-c2e7a5504e54",
   "metadata": {},
   "source": [
    "### Binomial Coefficient\n",
    "The binomial coefficient represents the number of ways to choose k items from n items without replacement and without order"
   ]
  },
  {
   "cell_type": "code",
   "execution_count": 7,
   "id": "349edbc8-cf87-44c0-bf4f-bc71582a0cb3",
   "metadata": {},
   "outputs": [
    {
     "name": "stdout",
     "output_type": "stream",
     "text": [
      "120\n"
     ]
    }
   ],
   "source": [
    "import math\n",
    "\n",
    "def binomial_coefficient(n, k):\n",
    "    return math.comb(n, k)\n",
    "\n",
    "# Example\n",
    "print(binomial_coefficient(10, 3))"
   ]
  },
  {
   "cell_type": "markdown",
   "id": "076966fa-7950-4728-ae47-62d6b6102c6c",
   "metadata": {},
   "source": [
    "### Real-life Example: Lottery Odds\n",
    "Binomial coefficients can be used to calculate the odds of winning a lottery"
   ]
  },
  {
   "cell_type": "code",
   "execution_count": 8,
   "id": "b5b94ef9-d3d6-41c1-8d30-095e91e52aff",
   "metadata": {},
   "outputs": [
    {
     "name": "stdout",
     "output_type": "stream",
     "text": [
      "Odds of winning the lottery (picking 6 from 49): 1 in 13983816\n"
     ]
    }
   ],
   "source": [
    "def lottery_odds(total_numbers, numbers_to_pick):\n",
    "    return binomial_coefficient(total_numbers, numbers_to_pick)\n",
    "\n",
    "total = 49\n",
    "pick = 6\n",
    "odds = lottery_odds(total, pick)\n",
    "print(f\"Odds of winning the lottery (picking {pick} from {total}): 1 in {odds}\")"
   ]
  },
  {
   "cell_type": "markdown",
   "id": "3dfa7172-59d5-418e-a546-b28507f1d443",
   "metadata": {},
   "source": [
    "### Pigeonhole Principle\n",
    "The pigeonhole principle states that if n items are put into m containers, with n > m, then at least one container must contain more than one item."
   ]
  },
  {
   "cell_type": "code",
   "execution_count": 9,
   "id": "43ea3d36-5216-4be2-a49a-c66b2ae2ad69",
   "metadata": {},
   "outputs": [
    {
     "name": "stdout",
     "output_type": "stream",
     "text": [
      "True\n"
     ]
    }
   ],
   "source": [
    "def pigeonhole_principle(items, containers):\n",
    "    return len(items) > len(containers)\n",
    "\n",
    "# Example\n",
    "items = [1, 2, 3, 4, 5]\n",
    "containers = ['A', 'B', 'C']\n",
    "print(pigeonhole_principle(items, containers))"
   ]
  },
  {
   "cell_type": "markdown",
   "id": "809a6568-5871-487b-942a-55ea37957ab5",
   "metadata": {},
   "source": [
    "### Real-life Example: Birthday Problem\n",
    "The pigeonhole principle can be applied to the birthday problem to determine the minimum number of people needed to guarantee at least two share a birthday"
   ]
  },
  {
   "cell_type": "code",
   "execution_count": 10,
   "id": "affb50cc-8f27-443e-b98d-41bcaf12e25c",
   "metadata": {},
   "outputs": [
    {
     "name": "stdout",
     "output_type": "stream",
     "text": [
      "Minimum people needed for a 50.0% chance of shared birthday: 23\n"
     ]
    }
   ],
   "source": [
    "import math\n",
    "\n",
    "def minimum_people_same_birthday(probability):\n",
    "    days = 365\n",
    "    n = 1\n",
    "    while (1 - math.prod((days - i) / days for i in range(n))) < probability:\n",
    "        n += 1\n",
    "    return n\n",
    "\n",
    "prob = 0.5\n",
    "min_people = minimum_people_same_birthday(prob)\n",
    "print(f\"Minimum people needed for a {prob*100}% chance of shared birthday: {min_people}\")"
   ]
  },
  {
   "cell_type": "code",
   "execution_count": null,
   "id": "6a05ad02-13d7-4288-a4fc-e615fc6147c9",
   "metadata": {},
   "outputs": [],
   "source": []
  },
  {
   "cell_type": "code",
   "execution_count": null,
   "id": "89380b39-349d-4a94-9dd3-7c9e4141e949",
   "metadata": {},
   "outputs": [],
   "source": []
  },
  {
   "cell_type": "code",
   "execution_count": null,
   "id": "796585bc-c038-4743-9716-7d8e461f0555",
   "metadata": {},
   "outputs": [],
   "source": []
  },
  {
   "cell_type": "code",
   "execution_count": null,
   "id": "7ecea54b-dd4a-44af-8ccf-ce16bf40f04d",
   "metadata": {},
   "outputs": [],
   "source": []
  },
  {
   "cell_type": "code",
   "execution_count": null,
   "id": "f3f38070-2ae9-490e-b2cc-4dae3e212b25",
   "metadata": {},
   "outputs": [],
   "source": []
  },
  {
   "cell_type": "code",
   "execution_count": null,
   "id": "9c06356b-bd5f-4826-a4fd-39d2a1f314d8",
   "metadata": {},
   "outputs": [],
   "source": []
  }
 ],
 "metadata": {
  "kernelspec": {
   "display_name": "Python 3 (ipykernel)",
   "language": "python",
   "name": "python3"
  },
  "language_info": {
   "codemirror_mode": {
    "name": "ipython",
    "version": 3
   },
   "file_extension": ".py",
   "mimetype": "text/x-python",
   "name": "python",
   "nbconvert_exporter": "python",
   "pygments_lexer": "ipython3",
   "version": "3.10.13"
  }
 },
 "nbformat": 4,
 "nbformat_minor": 5
}
