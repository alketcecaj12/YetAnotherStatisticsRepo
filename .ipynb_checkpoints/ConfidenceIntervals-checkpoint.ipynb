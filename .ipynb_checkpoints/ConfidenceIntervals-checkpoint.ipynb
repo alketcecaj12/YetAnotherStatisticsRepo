{
 "cells": [
  {
   "cell_type": "markdown",
   "id": "7b4bc749-319c-48e4-ad67-7e57971e568d",
   "metadata": {},
   "source": [
    "# Confidence Intervals vs. Tolerance Intervals\n",
    "\n",
    "Understanding the differences between confidence intervals and tolerance intervals can be facilitated by summarizing their key points and distinct purposes. Here’s a concise breakdown:\n",
    "\n",
    "Confidence Intervals\n",
    "Definition: A confidence interval estimates the range within which a population parameter (such as the mean or proportion) is likely to fall, based on a sample statistic.\n",
    "Purpose: To infer about a population parameter.\n",
    "Interpretation: If you were to take many samples and construct a confidence interval from each sample, a certain percentage (e.g., 95%) of those intervals would contain the true population parameter.\n",
    "Focus: On the precision of the sample estimate of a population parameter.\n",
    "Common Use Cases:\n",
    "Estimating the mean height of a population from a sample.\n",
    "Determining the proportion of voters favoring a candidate.\n",
    "Calculating the average test scores of students.\n",
    "Calculation: Based on the sample mean, sample size, standard error, and the desired confidence level (e.g., 95%, 99%)."
   ]
  },
  {
   "cell_type": "markdown",
   "id": "955c8449-bebd-46f1-a432-9211e96f28da",
   "metadata": {},
   "source": [
    "# Tolerance Intervals\n",
    "Definition: A tolerance interval specifies the range within which a certain proportion of the population falls, with a given level of confidence.\n",
    "Purpose: To specify a range that captures a specified proportion of the population.\n",
    "Interpretation: With a certain confidence level (e.g., 99%), a specified proportion (e.g., 95%) of the population values fall within this interval.\n",
    "Focus: On the coverage of the population's distribution.\n",
    "Common Use Cases:\n",
    "- Ensuring product quality in manufacturing (e.g., 95% of items meet the size specification with 99% confidence).\n",
    "\n",
    "- Determining environmental safety limits (e.g., pollutant levels within safe limits for 95% of samples with 99% confidence).\n",
    "\n",
    "- Setting medical benchmarks (e.g., 95% of patients' blood pressure within a certain range with 99% confidence).\n",
    "Calculation: Based on sample statistics (mean and standard deviation), sample size, desired proportion of the population, and the desired confidence level.\n",
    "\n",
    "## Key Points to Memorize\n",
    "Confidence Intervals\n",
    "Purpose: Estimate population parameters.\n",
    "Focus: Mean or proportion of a population.\n",
    "Interpretation: Probability about where the population parameter lies.\n",
    "Common Example: \"We are 95% confident that the population mean lies between X and Y.\"\n",
    "\n",
    "## Tolerance Intervals\n",
    "Purpose: Capture a proportion of the population.\n",
    "Focus: Range covering a proportion of the population.\n",
    "Interpretation: Proportion of the population within a range with a specified confidence.\n",
    "Common Example: \"We are 99% confident that 95% of the population falls between X and Y.\"\n",
    "Visualization\n",
    "Confidence Interval: Narrower focus on estimating a specific parameter (like the mean) with a given level of confidence.\n",
    "Tolerance Interval: Broader focus on ensuring a specified proportion of the population falls within the interval with a given level of confidence.\n",
    "Example Comparison\n",
    "Confidence Interval: If you sample the heights of 100 students and calculate a 95% confidence interval for the mean height, you're saying \"I'm 95% confident that the mean height of all students is between X and Y inches.\"\n",
    "\n",
    "Tolerance Interval: If you want to ensure that 95% of all student heights fall within a certain range with 99% confidence, you're saying \"I'm 99% confident that the interval from X to Y inches covers the heights of 95% of all students.\"\n",
    "\n",
    "By focusing on these key distinctions and purposes, you can better understand and remember the differences between confidence intervals and tolerance intervals."
   ]
  },
  {
   "cell_type": "markdown",
   "id": "4d9c915b-f556-4dd8-b95c-327dc431a7c2",
   "metadata": {},
   "source": [
    "## 1. Confidence Interval Example\n",
    "We’ll use a sample dataset to calculate a 95% confidence interval for the mean. This interval will give us a range within which we expect the true population mean to fall with 95% confidence."
   ]
  },
  {
   "cell_type": "code",
   "execution_count": 2,
   "id": "b3c3910d-397c-4bd1-85e1-33210cdc183c",
   "metadata": {},
   "outputs": [
    {
     "name": "stdout",
     "output_type": "stream",
     "text": [
      "95% Confidence Interval for the mean: (47.16, 50.76)\n"
     ]
    }
   ],
   "source": [
    "import numpy as np\n",
    "import scipy.stats as stats\n",
    "\n",
    "# Generate a sample dataset\n",
    "np.random.seed(42)\n",
    "data = np.random.normal(loc=50, scale=10, size=100)  # Mean = 50, Std Dev = 10, Sample Size = 100\n",
    "\n",
    "# Calculate sample statistics\n",
    "mean = np.mean(data)\n",
    "std_dev = np.std(data, ddof=1)\n",
    "n = len(data)\n",
    "\n",
    "# Confidence level\n",
    "confidence = 0.95\n",
    "\n",
    "# Compute the critical value for the t-distribution\n",
    "alpha = 1 - confidence\n",
    "t_critical = stats.t.ppf(1 - alpha/2, df=n-1)\n",
    "\n",
    "# Calculate the margin of error\n",
    "margin_of_error = t_critical * (std_dev / np.sqrt(n))\n",
    "\n",
    "# Calculate the confidence interval\n",
    "lower_bound = mean - margin_of_error\n",
    "upper_bound = mean + margin_of_error\n",
    "\n",
    "print(f\"95% Confidence Interval for the mean: ({lower_bound:.2f}, {upper_bound:.2f})\")\n"
   ]
  },
  {
   "cell_type": "code",
   "execution_count": null,
   "id": "04dd2c68-19f9-4b6d-a398-3609b8b64049",
   "metadata": {},
   "outputs": [],
   "source": []
  },
  {
   "cell_type": "code",
   "execution_count": null,
   "id": "df943232-5f2d-4014-ada8-13e58d686bc0",
   "metadata": {},
   "outputs": [],
   "source": []
  },
  {
   "cell_type": "code",
   "execution_count": null,
   "id": "7350d145-a935-4f63-bd79-f2527f03a298",
   "metadata": {},
   "outputs": [],
   "source": []
  },
  {
   "cell_type": "code",
   "execution_count": null,
   "id": "cbf8f507-819c-4283-8e01-a67847cf956a",
   "metadata": {},
   "outputs": [],
   "source": []
  },
  {
   "cell_type": "code",
   "execution_count": null,
   "id": "d53cd3b8-d3e1-4e54-bb9c-214dcd0d080c",
   "metadata": {},
   "outputs": [],
   "source": []
  },
  {
   "cell_type": "code",
   "execution_count": null,
   "id": "3ae4958c-a275-4fad-8e81-55c3d2d02e02",
   "metadata": {},
   "outputs": [],
   "source": []
  }
 ],
 "metadata": {
  "kernelspec": {
   "display_name": "Python 3 (ipykernel)",
   "language": "python",
   "name": "python3"
  },
  "language_info": {
   "codemirror_mode": {
    "name": "ipython",
    "version": 3
   },
   "file_extension": ".py",
   "mimetype": "text/x-python",
   "name": "python",
   "nbconvert_exporter": "python",
   "pygments_lexer": "ipython3",
   "version": "3.10.13"
  }
 },
 "nbformat": 4,
 "nbformat_minor": 5
}
