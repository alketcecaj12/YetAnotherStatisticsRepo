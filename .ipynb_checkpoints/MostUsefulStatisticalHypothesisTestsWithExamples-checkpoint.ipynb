{
 "cells": [
  {
   "cell_type": "code",
   "execution_count": 2,
   "id": "9c2db99b-001c-4c56-be19-7173fa68f4f3",
   "metadata": {},
   "outputs": [],
   "source": [
    "import pandas as pd \n",
    "import matplotlib.pyplot as plt\n",
    "import empiricaldist as ed"
   ]
  },
  {
   "cell_type": "markdown",
   "id": "bcf5df6b-c915-496a-aa32-fb70bfbf845b",
   "metadata": {},
   "source": [
    "# 1. Z-Test\n",
    "\n",
    "- Used to determine if there is a significant difference between sample and population means.\n",
    "Assumes the sample size is large (typically 𝑛 > 30 ) and data follows a normal distribution.\n",
    "### Use Case: Determine if the average height of a sample of men differs from the known population mean height of men."
   ]
  },
  {
   "cell_type": "code",
   "execution_count": 3,
   "id": "6048a85e-988f-4968-b1cf-85e672ef33d2",
   "metadata": {},
   "outputs": [
    {
     "name": "stdout",
     "output_type": "stream",
     "text": [
      "Z-Score: 6.1998728733192685, P-Value: 5.65087754367255e-10\n"
     ]
    }
   ],
   "source": [
    "from scipy import stats\n",
    "import numpy as np\n",
    "\n",
    "# Sample data\n",
    "sample_heights = np.array([175, 180, 178, 182, 177, 179, 181, 183, 176, 180])\n",
    "population_mean = 174\n",
    "sample_mean = np.mean(sample_heights)\n",
    "sample_std = np.std(sample_heights, ddof=1)\n",
    "n = len(sample_heights)\n",
    "\n",
    "# Z-Test\n",
    "z_score = (sample_mean - population_mean) / (sample_std / np.sqrt(n))\n",
    "p_value = 2 * (1 - stats.norm.cdf(abs(z_score)))\n",
    "\n",
    "print(f\"Z-Score: {z_score}, P-Value: {p_value}\")\n",
    "\n",
    "### p-value > 0.05: Fail to reject the null hypothesis (H0), which is: there is significant difference between sample and population mean \n",
    "### p-value <= 0.05: Reject the null hypothesis (H0), which is: there is no significant difference between sample and population mean"
   ]
  },
  {
   "cell_type": "markdown",
   "id": "61d54c5e-5087-4f33-83cc-4bb46ca2327e",
   "metadata": {},
   "source": [
    "# 2. T-Test: Used to compare the means of two groups.\n",
    "\n",
    "- Independent T-Test: Compares means from two different groups.\n",
    "- Paired T-Test: Compares means from the same group at different times.\n",
    "- One-Sample T-Test: Compares the mean of a single group against a known mean.\n",
    "\n",
    "### Use Case: Compare the average test scores between two different classes."
   ]
  },
  {
   "cell_type": "code",
   "execution_count": 4,
   "id": "5f4512e7-e6cd-449f-8e32-d6f4f333db8e",
   "metadata": {},
   "outputs": [
    {
     "name": "stdout",
     "output_type": "stream",
     "text": [
      "T-Statistic: 2.5815412184223, P-Value: 0.027343912738690277\n"
     ]
    }
   ],
   "source": [
    "# Sample data\n",
    "class_A_scores = [88, 92, 85, 91, 87, 90]\n",
    "class_B_scores = [82, 91, 81, 82, 86, 80]\n",
    "\n",
    "# Independent T-Test\n",
    "t_stat, p_value = stats.ttest_ind(class_A_scores, class_B_scores)\n",
    "\n",
    "print(f\"T-Statistic: {t_stat}, P-Value: {p_value}\")\n",
    "### p-value > 0.05: Fail to reject the null hypothesis (H0), which is: the average test scores between two different classes are different \n",
    "### p-value <= 0.05: Reject the null hypothesis (H0), which is: the average test scores between two different classes are different"
   ]
  },
  {
   "cell_type": "markdown",
   "id": "50b437e2-7e57-4630-8b72-58f1666664d9",
   "metadata": {},
   "source": [
    "# 3. Chi-Square Test:\n",
    "\n",
    "- Used for categorical data to assess how likely it is that an observed distribution is due to chance.\n",
    "- Chi-Square Goodness of Fit Test: Determines if a sample matches the population.\n",
    "- Chi-Square Test for Independence: Determines if there is an association between two categorical variables.\n",
    "\n",
    "### Use Case: Test if there is a significant association between gender and preference for a new product."
   ]
  },
  {
   "cell_type": "code",
   "execution_count": 5,
   "id": "8b633650-c88d-475b-98f8-50ea4706b93a",
   "metadata": {},
   "outputs": [
    {
     "name": "stdout",
     "output_type": "stream",
     "text": [
      "Chi-Square Statistic: 5.0253109056122485, P-Value: 0.024979440588164006\n"
     ]
    }
   ],
   "source": [
    "# Sample data\n",
    "# Gender: Male=0, Female=1\n",
    "# Preference: Yes=1, No=0\n",
    "data = [[50, 30], [30, 40]]  # [Male Yes, Male No], [Female Yes, Female No]\n",
    "\n",
    "# Chi-Square Test for Independence\n",
    "chi2, p, dof, expected = stats.chi2_contingency(data)\n",
    "\n",
    "print(f\"Chi-Square Statistic: {chi2}, P-Value: {p}\")\n"
   ]
  },
  {
   "cell_type": "markdown",
   "id": "2e83aee6-27d1-40b2-97fc-6eb10ea385f7",
   "metadata": {},
   "source": [
    "# 4.ANOVA (Analysis of Variance):\n",
    "\n",
    "- Used to compare means among three or more groups.\n",
    "- One-Way ANOVA: Tests differences between groups based on one independent variable.\n",
    "- Two-Way ANOVA: Tests differences based on two independent variables.\n",
    "\n",
    "### Use Case: Compare the average sales figures across the different stores"
   ]
  },
  {
   "cell_type": "code",
   "execution_count": 9,
   "id": "7db67bef-aec7-484a-ae3e-ba4b3c07bc4f",
   "metadata": {},
   "outputs": [
    {
     "name": "stdout",
     "output_type": "stream",
     "text": [
      "F-Statistic: 1.316326530612245, P-Value: 0.3041928644493792\n"
     ]
    }
   ],
   "source": [
    "# Sample data\n",
    "store_A_sales = [200, 220, 250, 270, 240]\n",
    "store_B_sales = [210, 230, 260, 280, 250]\n",
    "store_C_sales = [190, 210, 230, 250, 220]\n",
    "\n",
    "# One-Way ANOVA\n",
    "f_stat, p_value = stats.f_oneway(store_A_sales, store_B_sales, store_C_sales)\n",
    "\n",
    "print(f\"F-Statistic: {f_stat}, P-Value: {p_value}\")"
   ]
  },
  {
   "cell_type": "markdown",
   "id": "3ea690c9-8e17-41f6-9b87-9c71e9b46453",
   "metadata": {},
   "source": [
    "# 5. F-Test:\n",
    "\n",
    "- Used to compare two variances to see if they come from populations with equal variances.\n",
    "Often used in conjunction with ANOVA.\n",
    "\n",
    "### Use Case: Compare variances in test scores between two groups of students."
   ]
  },
  {
   "cell_type": "code",
   "execution_count": 10,
   "id": "08d5df80-7cc7-4fd1-8377-483c5476e87d",
   "metadata": {},
   "outputs": [
    {
     "name": "stdout",
     "output_type": "stream",
     "text": [
      "F-Statistic: 0.7060810810810811, P-Value: 0.6440730843134055\n"
     ]
    }
   ],
   "source": [
    "# Sample data\n",
    "group_A_scores = [88, 92, 85, 91, 87, 90]\n",
    "group_B_scores = [82, 79, 88, 84, 86, 83]\n",
    "\n",
    "# F-Test for Equality of Variances\n",
    "f_stat = np.var(group_A_scores, ddof=1) / np.var(group_B_scores, ddof=1)\n",
    "dfn = len(group_A_scores) - 1\n",
    "dfd = len(group_B_scores) - 1\n",
    "p_value = 1 - stats.f.cdf(f_stat, dfn, dfd)\n",
    "\n",
    "print(f\"F-Statistic: {f_stat}, P-Value: {p_value}\")\n"
   ]
  },
  {
   "cell_type": "markdown",
   "id": "925c59bd-895e-44d9-bc3c-7221633732e7",
   "metadata": {},
   "source": [
    "# 5. Mann-Whitney U Test:\n",
    "- A non-parametric test used to compare differences between two independent groups when the sample distributions are not normally distributed.\n",
    "### Use Case: Compare the customer satisfaction scores between two stores."
   ]
  },
  {
   "cell_type": "code",
   "execution_count": 11,
   "id": "15f41cfa-4fda-4bae-8bf0-7c688e3adb28",
   "metadata": {},
   "outputs": [
    {
     "name": "stdout",
     "output_type": "stream",
     "text": [
      "U-Statistic: 32.5, P-Value: 0.02472171233844612\n"
     ]
    }
   ],
   "source": [
    "# Sample data\n",
    "store_A_scores = [88, 92, 85, 91, 87, 90]\n",
    "store_B_scores = [82, 79, 88, 84, 86, 83]\n",
    "\n",
    "# Mann-Whitney U Test\n",
    "u_stat, p_value = stats.mannwhitneyu(store_A_scores, store_B_scores)\n",
    "\n",
    "print(f\"U-Statistic: {u_stat}, P-Value: {p_value}\")"
   ]
  },
  {
   "cell_type": "markdown",
   "id": "c85bfe54-c7fa-4fda-a36f-53edc9c7c256",
   "metadata": {},
   "source": [
    "# 6. Wilcoxon Signed-Rank Test:\n",
    "- A non-parametric test used for comparing two paired samples or repeated measurements on a single sample.\n",
    "\n",
    "  ### Use case: Compare the effectiveness of a drug before and after treatment on the same group of patients.\n"
   ]
  },
  {
   "cell_type": "code",
   "execution_count": 12,
   "id": "da8d1767-8b95-4474-aacf-c10e14627437",
   "metadata": {},
   "outputs": [
    {
     "name": "stdout",
     "output_type": "stream",
     "text": [
      "W-Statistic: 0.0, P-Value: 0.03125\n"
     ]
    }
   ],
   "source": [
    "# Sample data\n",
    "before_treatment = [88, 92, 85, 91, 87, 90]\n",
    "after_treatment = [90, 94, 87, 93, 89, 92]\n",
    "\n",
    "# Wilcoxon Signed-Rank Test\n",
    "w_stat, p_value = stats.wilcoxon(before_treatment, after_treatment)\n",
    "\n",
    "print(f\"W-Statistic: {w_stat}, P-Value: {p_value}\")"
   ]
  },
  {
   "cell_type": "markdown",
   "id": "845eddf8-9ebe-409b-aceb-a93adfc0afbb",
   "metadata": {},
   "source": [
    "# 7. Kruskal-Wallis Test:\n",
    "- A non-parametric version of ANOVA, used for comparing three or more groups.\n",
    "\n",
    "### Use Case: Compare the median customer ratings for three different products.\n"
   ]
  },
  {
   "cell_type": "code",
   "execution_count": 13,
   "id": "df63665a-4fea-4c70-8187-61126a33aa2f",
   "metadata": {},
   "outputs": [
    {
     "name": "stdout",
     "output_type": "stream",
     "text": [
      "H-Statistic: 10.674060822898033, P-Value: 0.004810133640084798\n"
     ]
    }
   ],
   "source": [
    "# Sample data\n",
    "product_A_ratings = [4.5, 4.0, 4.8, 4.9, 4.7]\n",
    "product_B_ratings = [3.5, 3.7, 3.8, 3.6, 3.9]\n",
    "product_C_ratings = [4.0, 4.2, 4.1, 4.3, 4.4]\n",
    "\n",
    "# Kruskal-Wallis Test\n",
    "h_stat, p_value = stats.kruskal(product_A_ratings, product_B_ratings, product_C_ratings)\n",
    "\n",
    "print(f\"H-Statistic: {h_stat}, P-Value: {p_value}\")"
   ]
  },
  {
   "cell_type": "markdown",
   "id": "1e799ea4-0698-4f3a-9e8f-e1a2303d3eec",
   "metadata": {},
   "source": [
    "# 8. Pearson Correlation Coefficient Test:\n",
    "\n",
    "- Measures the strength and direction of the linear relationship between two continuous variables.\n",
    "### Use Case: Measure the relationship between hours studied and test scores.\n"
   ]
  },
  {
   "cell_type": "code",
   "execution_count": 14,
   "id": "b142d82d-4827-4632-aadc-dd6fc0400dd5",
   "metadata": {},
   "outputs": [
    {
     "name": "stdout",
     "output_type": "stream",
     "text": [
      "Pearson Correlation Coefficient: 0.9984884737549667, P-Value: 3.4253406833711287e-06\n"
     ]
    }
   ],
   "source": [
    "# Sample data\n",
    "hours_studied = [10, 12, 14, 16, 18, 20]\n",
    "test_scores = [75, 78, 80, 83, 85, 88]\n",
    "\n",
    "# Pearson Correlation Coefficient Test\n",
    "corr_coef, p_value = stats.pearsonr(hours_studied, test_scores)\n",
    "\n",
    "print(f\"Pearson Correlation Coefficient: {corr_coef}, P-Value: {p_value}\")\n"
   ]
  },
  {
   "cell_type": "markdown",
   "id": "b79d4ba7-1522-46cc-b1e0-b269d04a05da",
   "metadata": {},
   "source": [
    "# 9. Spearman Rank Correlation Test:\n",
    "- A non-parametric test that assesses how well the relationship between two variables can be described using a monotonic function.\n",
    "\n",
    "### Use Case: Measure the relationship between ranks in two different subjects."
   ]
  },
  {
   "cell_type": "code",
   "execution_count": 15,
   "id": "f5e9326e-ef9c-4371-a4f2-756dcd2be9d7",
   "metadata": {},
   "outputs": [
    {
     "name": "stdout",
     "output_type": "stream",
     "text": [
      "Spearman Correlation Coefficient: 0.8285714285714287, P-Value: 0.04156268221574334\n"
     ]
    }
   ],
   "source": [
    "# Sample data\n",
    "math_ranks = [1, 2, 3, 4, 5, 6]\n",
    "science_ranks = [2, 1, 4, 3, 6, 5]\n",
    "\n",
    "# Spearman Rank Correlation Test\n",
    "corr_coef, p_value = stats.spearmanr(math_ranks, science_ranks)\n",
    "\n",
    "print(f\"Spearman Correlation Coefficient: {corr_coef}, P-Value: {p_value}\")"
   ]
  },
  {
   "cell_type": "markdown",
   "id": "8979f332-4087-4660-a51b-495b54820464",
   "metadata": {},
   "source": [
    "# 10. Log-Rank Test:\n",
    "\n",
    "- Used to compare the survival distributions of two samples.\n",
    "\n",
    "  ### Use Case: Compare survival times of patients treated with two different drugs."
   ]
  },
  {
   "cell_type": "code",
   "execution_count": 18,
   "id": "2dc5a041-46a2-492c-9b61-66052f563005",
   "metadata": {},
   "outputs": [
    {
     "name": "stdout",
     "output_type": "stream",
     "text": [
      "Log-Rank Test Statistic: 5.239463380979654, P-Value: 0.022080083676667875\n"
     ]
    }
   ],
   "source": [
    "from lifelines.statistics import logrank_test\n",
    "from lifelines import KaplanMeierFitter\n",
    "import numpy as np\n",
    "\n",
    "# Sample data\n",
    "durations_A = np.array([5, 6, 6, 2.5, 4, 3])\n",
    "event_observed_A = np.array([1, 1, 1, 1, 1, 1])\n",
    "durations_B = np.array([6, 7, 6, 7, 5, 8])\n",
    "event_observed_B = np.array([1, 1, 1, 1, 1, 1])\n",
    "\n",
    "# Log-Rank Test\n",
    "results = logrank_test(durations_A, durations_B, event_observed_A, event_observed_B)\n",
    "\n",
    "print(f\"Log-Rank Test Statistic: {results.test_statistic}, P-Value: {results.p_value}\")\n"
   ]
  },
  {
   "cell_type": "code",
   "execution_count": null,
   "id": "dc55086f-b5c2-4d6d-ad1a-af52e80a04ae",
   "metadata": {},
   "outputs": [],
   "source": []
  },
  {
   "cell_type": "code",
   "execution_count": null,
   "id": "002cb540-7656-4718-89f8-e8f8163b1945",
   "metadata": {},
   "outputs": [],
   "source": []
  },
  {
   "cell_type": "code",
   "execution_count": null,
   "id": "f6e76c8c-5ecb-403f-ab6e-578b65d2d2ae",
   "metadata": {},
   "outputs": [],
   "source": []
  },
  {
   "cell_type": "code",
   "execution_count": null,
   "id": "51e118fd-eb4e-4b0f-a238-4f891b246f2c",
   "metadata": {},
   "outputs": [],
   "source": []
  },
  {
   "cell_type": "code",
   "execution_count": null,
   "id": "8a0b31cd-9823-4d1c-83b8-e8e42c8e30b1",
   "metadata": {},
   "outputs": [],
   "source": []
  }
 ],
 "metadata": {
  "kernelspec": {
   "display_name": "Python 3 (ipykernel)",
   "language": "python",
   "name": "python3"
  },
  "language_info": {
   "codemirror_mode": {
    "name": "ipython",
    "version": 3
   },
   "file_extension": ".py",
   "mimetype": "text/x-python",
   "name": "python",
   "nbconvert_exporter": "python",
   "pygments_lexer": "ipython3",
   "version": "3.10.13"
  }
 },
 "nbformat": 4,
 "nbformat_minor": 5
}
